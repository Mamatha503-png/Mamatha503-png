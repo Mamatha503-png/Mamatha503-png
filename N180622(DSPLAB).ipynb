{
  "nbformat": 4,
  "nbformat_minor": 0,
  "metadata": {
    "colab": {
      "name": "N180622(DSPLAB).ipynb",
      "provenance": [],
      "collapsed_sections": [],
      "authorship_tag": "ABX9TyPp8F8WkyMH2iLBGswuHRvE",
      "include_colab_link": true
    },
    "kernelspec": {
      "name": "python3",
      "display_name": "Python 3"
    },
    "language_info": {
      "name": "python"
    }
  },
  "cells": [
    {
      "cell_type": "markdown",
      "metadata": {
        "id": "view-in-github",
        "colab_type": "text"
      },
      "source": [
        "<a href=\"https://colab.research.google.com/github/Mamatha503-png/Mamatha503-png/blob/main/N180622(DSPLAB).ipynb\" target=\"_parent\"><img src=\"https://colab.research.google.com/assets/colab-badge.svg\" alt=\"Open In Colab\"/></a>"
      ]
    },
    {
      "cell_type": "code",
      "execution_count": null,
      "metadata": {
        "id": "n7GlncmTHFfK"
      },
      "outputs": [],
      "source": [
        ""
      ]
    },
    {
      "cell_type": "markdown",
      "source": [
        "To demonstrate working of classes and objects"
      ],
      "metadata": {
        "id": "MfhFtvXyHPPp"
      }
    },
    {
      "cell_type": "code",
      "source": [
        "class Customer: \n",
        "    '''def __init__(self , name , id):\n",
        "        self.name=name\n",
        "        self.id=id'''\n",
        "    def set_name(self, name):\n",
        "        self.name=name\n",
        "    def set_id(self,id):\n",
        "        self.id=id\n",
        "    def get_name(self):\n",
        "        return self.name\n",
        "    def get_id(self):\n",
        "        return self.id\n",
        "c=Customer()\n",
        "#get attribute\n",
        "c.set_name(\"Mamatha\")\n",
        "c.set_id(622)\n",
        "print(\"My name is:\",c.get_name())\n",
        "print(\"My id is:\",c.get_id())\n",
        "'''Built in classes'''\n",
        "print(\"documentation>>\",Customer.__doc__)\n",
        "print(\"name of the class>>\",Customer.__name__)\n",
        "print(\"dictionary of namespaces>>\",Customer.__dict__)\n",
        "print(\"Bases>>\",Customer.__bases__)\n",
        "''' Builtin attributes'''\n",
        "print(\"Is customer name is there or not(y/n):\",hasattr(Customer,'name'))\n",
        "\n"
      ],
      "metadata": {
        "colab": {
          "base_uri": "https://localhost:8080/"
        },
        "id": "HpSwCaioVaJ0",
        "outputId": "e85ff3e5-4058-49f6-b467-79b46b0d36d4"
      },
      "execution_count": 16,
      "outputs": [
        {
          "output_type": "stream",
          "name": "stdout",
          "text": [
            "My name is: Mamatha\n",
            "My id is: 622\n",
            "documentation>> def __init__(self , name , id):\n",
            "        self.name=name\n",
            "        self.id=id\n",
            "name of the class>> Customer\n",
            "dictionary of namespaces>> {'__module__': '__main__', '__doc__': 'def __init__(self , name , id):\\n        self.name=name\\n        self.id=id', 'set_name': <function Customer.set_name at 0x7f939e339950>, 'set_id': <function Customer.set_id at 0x7f939e339170>, 'get_name': <function Customer.get_name at 0x7f939e339710>, 'get_id': <function Customer.get_id at 0x7f939e339dd0>, '__dict__': <attribute '__dict__' of 'Customer' objects>, '__weakref__': <attribute '__weakref__' of 'Customer' objects>}\n",
            "Bases>> (<class 'object'>,)\n",
            "Is customer name is there or not(y/n): False\n"
          ]
        }
      ]
    },
    {
      "cell_type": "code",
      "source": [
        ""
      ],
      "metadata": {
        "id": "v489CDoQHZ-N"
      },
      "execution_count": null,
      "outputs": []
    },
    {
      "cell_type": "code",
      "source": [
        "\"\""
      ],
      "metadata": {
        "colab": {
          "base_uri": "https://localhost:8080/",
          "height": 36
        },
        "id": "-bWrYe1cO1RH",
        "outputId": "55d9a00f-12f6-44eb-8c07-0046b4e5ac96"
      },
      "execution_count": 6,
      "outputs": [
        {
          "output_type": "execute_result",
          "data": {
            "text/plain": [
              "''"
            ],
            "application/vnd.google.colaboratory.intrinsic+json": {
              "type": "string"
            }
          },
          "metadata": {},
          "execution_count": 6
        }
      ]
    }
  ]
}